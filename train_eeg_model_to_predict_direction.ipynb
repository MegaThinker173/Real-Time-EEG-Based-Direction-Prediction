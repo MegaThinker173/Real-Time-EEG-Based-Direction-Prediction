{
  "nbformat": 4,
  "nbformat_minor": 0,
  "metadata": {
    "colab": {
      "provenance": [],
      "gpuType": "T4"
    },
    "kernelspec": {
      "name": "python3",
      "display_name": "Python 3"
    },
    "language_info": {
      "name": "python"
    },
    "accelerator": "GPU"
  },
  "cells": [
    {
      "cell_type": "code",
      "execution_count": null,
      "metadata": {
        "id": "AI2Om54uIcDC",
        "colab": {
          "base_uri": "https://localhost:8080/"
        },
        "outputId": "bdb90f4e-2b22-4d33-fa81-ea87e7a9cbea"
      },
      "outputs": [
        {
          "output_type": "stream",
          "name": "stdout",
          "text": [
            "Collecting mne\n",
            "  Downloading mne-1.9.0-py3-none-any.whl.metadata (20 kB)\n",
            "Requirement already satisfied: decorator in /usr/local/lib/python3.11/dist-packages (from mne) (4.4.2)\n",
            "Requirement already satisfied: jinja2 in /usr/local/lib/python3.11/dist-packages (from mne) (3.1.6)\n",
            "Requirement already satisfied: lazy-loader>=0.3 in /usr/local/lib/python3.11/dist-packages (from mne) (0.4)\n",
            "Requirement already satisfied: matplotlib>=3.6 in /usr/local/lib/python3.11/dist-packages (from mne) (3.10.0)\n",
            "Requirement already satisfied: numpy<3,>=1.23 in /usr/local/lib/python3.11/dist-packages (from mne) (2.0.2)\n",
            "Requirement already satisfied: packaging in /usr/local/lib/python3.11/dist-packages (from mne) (24.2)\n",
            "Requirement already satisfied: pooch>=1.5 in /usr/local/lib/python3.11/dist-packages (from mne) (1.8.2)\n",
            "Requirement already satisfied: scipy>=1.9 in /usr/local/lib/python3.11/dist-packages (from mne) (1.15.3)\n",
            "Requirement already satisfied: tqdm in /usr/local/lib/python3.11/dist-packages (from mne) (4.67.1)\n",
            "Requirement already satisfied: contourpy>=1.0.1 in /usr/local/lib/python3.11/dist-packages (from matplotlib>=3.6->mne) (1.3.2)\n",
            "Requirement already satisfied: cycler>=0.10 in /usr/local/lib/python3.11/dist-packages (from matplotlib>=3.6->mne) (0.12.1)\n",
            "Requirement already satisfied: fonttools>=4.22.0 in /usr/local/lib/python3.11/dist-packages (from matplotlib>=3.6->mne) (4.58.0)\n",
            "Requirement already satisfied: kiwisolver>=1.3.1 in /usr/local/lib/python3.11/dist-packages (from matplotlib>=3.6->mne) (1.4.8)\n",
            "Requirement already satisfied: pillow>=8 in /usr/local/lib/python3.11/dist-packages (from matplotlib>=3.6->mne) (11.2.1)\n",
            "Requirement already satisfied: pyparsing>=2.3.1 in /usr/local/lib/python3.11/dist-packages (from matplotlib>=3.6->mne) (3.2.3)\n",
            "Requirement already satisfied: python-dateutil>=2.7 in /usr/local/lib/python3.11/dist-packages (from matplotlib>=3.6->mne) (2.9.0.post0)\n",
            "Requirement already satisfied: platformdirs>=2.5.0 in /usr/local/lib/python3.11/dist-packages (from pooch>=1.5->mne) (4.3.8)\n",
            "Requirement already satisfied: requests>=2.19.0 in /usr/local/lib/python3.11/dist-packages (from pooch>=1.5->mne) (2.32.3)\n",
            "Requirement already satisfied: MarkupSafe>=2.0 in /usr/local/lib/python3.11/dist-packages (from jinja2->mne) (3.0.2)\n",
            "Requirement already satisfied: six>=1.5 in /usr/local/lib/python3.11/dist-packages (from python-dateutil>=2.7->matplotlib>=3.6->mne) (1.17.0)\n",
            "Requirement already satisfied: charset-normalizer<4,>=2 in /usr/local/lib/python3.11/dist-packages (from requests>=2.19.0->pooch>=1.5->mne) (3.4.2)\n",
            "Requirement already satisfied: idna<4,>=2.5 in /usr/local/lib/python3.11/dist-packages (from requests>=2.19.0->pooch>=1.5->mne) (3.10)\n",
            "Requirement already satisfied: urllib3<3,>=1.21.1 in /usr/local/lib/python3.11/dist-packages (from requests>=2.19.0->pooch>=1.5->mne) (2.4.0)\n",
            "Requirement already satisfied: certifi>=2017.4.17 in /usr/local/lib/python3.11/dist-packages (from requests>=2.19.0->pooch>=1.5->mne) (2025.4.26)\n",
            "Downloading mne-1.9.0-py3-none-any.whl (7.4 MB)\n",
            "\u001b[2K   \u001b[90m━━━━━━━━━━━━━━━━━━━━━━━━━━━━━━━━━━━━━━━━\u001b[0m \u001b[32m7.4/7.4 MB\u001b[0m \u001b[31m52.1 MB/s\u001b[0m eta \u001b[36m0:00:00\u001b[0m\n",
            "\u001b[?25hInstalling collected packages: mne\n",
            "Successfully installed mne-1.9.0\n",
            "Requirement already satisfied: PyWavelets in /usr/local/lib/python3.11/dist-packages (1.8.0)\n",
            "Requirement already satisfied: numpy<3,>=1.23 in /usr/local/lib/python3.11/dist-packages (from PyWavelets) (2.0.2)\n",
            "Mounted at /content/drive\n"
          ]
        }
      ],
      "source": [
        "!pip install mne\n",
        "!pip install PyWavelets\n",
        "\n",
        "from google.colab import drive\n",
        "import os\n",
        "import pandas as pd\n",
        "import matplotlib.pyplot as plt\n",
        "import numpy as np\n",
        "from scipy.signal import butter, filtfilt\n",
        "import mne\n",
        "import pywt\n",
        "import random\n",
        "import tensorflow as tf\n",
        "from tensorflow.keras.models import Sequential\n",
        "from tensorflow.keras.layers import Conv2D, MaxPooling2D, Flatten, Dense, Dropout\n",
        "from sklearn.model_selection import train_test_split\n",
        "from datetime import datetime, timedelta\n",
        "\n",
        "drive.mount('/content/drive')"
      ]
    },
    {
      "cell_type": "code",
      "source": [
        "gamedata_folders = [\"game1\", \"game3\", \"game4\", \"game5\", \"game7\", \"game8\", \"game9\", \"game11\", \"game12\", \"game13\", \"game15\", \"game16\"]\n",
        "\n",
        "#gamedata_folders = [\"game3\", \"game7\", \"game11\", \"game15\"]\n",
        "\n",
        "# gamedata_folders = [\"gamedata_files_game1\", \"gamedata_files_game2\", \"gamedata_files_game3\", \"gamedata_files_game4\"]\n",
        "#Each game contains 21 minutes of data\n",
        "\n",
        "# Old game data folders: \"gamedata_files_game1\", \"gamedata_files_game2\", \"gamedata_files_game3\", \"gamedata_files_game4\", \"gamedata_files_game5\", \"gamedata_files_game6\", \"gamedata_files_game7\""
      ],
      "metadata": {
        "id": "C-NVLZPu6g5s"
      },
      "execution_count": null,
      "outputs": []
    },
    {
      "cell_type": "code",
      "source": [
        "val_gamedata_folders = [\"game2\", \"game6\", \"game10\", \"game14\"]"
      ],
      "metadata": {
        "id": "-xRH5fcxJ_pW"
      },
      "execution_count": null,
      "outputs": []
    },
    {
      "cell_type": "code",
      "source": [
        "#gamedata_eegvalues = \"/content/drive/MyDrive/EMOTIV-CSV-Files-Updated/Nov12-GameData-CSV-Files/gamedata_eegvalues_nov23.csv\"\n",
        "#gamedata_keystrokes = \"/content/drive/MyDrive/EMOTIV-CSV-Files-Updated/Nov12-GameData-CSV-Files/gamedata_keystrokes_nov23.csv\"\n",
        "\n",
        "list_of_actions = [\"up\", \"down\", \"left\", \"right\"]\n",
        "\n",
        "list_of_columns = ['EEG.AF3', 'EEG.F7', 'EEG.F3', 'EEG.FC5', 'EEG.T7', 'EEG.P7', 'EEG.O1', 'EEG.O2',\n",
        "                   'EEG.P8', 'EEG.T8', 'EEG.FC6', 'EEG.F4', 'EEG.F8', 'EEG.AF4', 'Timestamp'] # Replace last element with 'Time of Day'"
      ],
      "metadata": {
        "id": "UkgjjJUTIjH2"
      },
      "execution_count": null,
      "outputs": []
    },
    {
      "cell_type": "code",
      "source": [
        "def convert_time_to_unix(time, timestamp):\n",
        "  return time"
      ],
      "metadata": {
        "id": "0dzqEmauNy_8"
      },
      "execution_count": null,
      "outputs": []
    },
    {
      "cell_type": "code",
      "source": [
        "from datetime import datetime\n",
        "import mne\n",
        "\n",
        "sfreq = 329\n",
        "\n",
        "columns = [\n",
        "    \"AF3\",\"F7\",\"F3\",\"FC5\",\"T7\",\"P7\",\"O1\",\"O2\",\"P8\",\"T8\",\"FC6\",\"F4\",\"F8\",\"AF4\"\n",
        "]\n",
        "\n",
        "def group_by_time_of_day(data_eegvalues_path, data_keystrokes_path):\n",
        "  df_keystrokes = pd.read_csv(data_keystrokes_path)\n",
        "  df_eegvalues = pd.read_csv(data_eegvalues_path, delimiter=',') # The eeg values from CSV, but not as df\n",
        "\n",
        "  # eegvalues_df = pd.DataFrame(df_eegvalues) # Actual eegvalues dataframe\n",
        "  # info = mne.create_info(ch_names = columns, sfreq=sfreq, ch_types=\"eeg\")\n",
        "  # raw = mne.io.RawArray(eegvalues_df[columns].values.T, info)\n",
        "\n",
        "\n",
        "\n",
        "  #df_eegvalues['Time of Day'] = pd.to_datetime(df_eegvalues['Timestamp'], unit='s')\n",
        "  #df_eegvalues['Time of Day'] = df_eegvalues['Time of Day'].dt.tz_localize('UTC').dt.tz_convert('Asia/Bangkok')\n",
        "\n",
        "  keystrokes_list = df_keystrokes.values.tolist()\n",
        "\n",
        "  groups = {}\n",
        "  print(f\"keystrokes_list {keystrokes_list}\")\n",
        "  print(f\"df_eegvalues {df_eegvalues}\")\n",
        "  print(f\"keystrokes_list[0][0] {keystrokes_list[0][0]}\")\n",
        "  start_playing_time = convert_time_to_unix(keystrokes_list[0][1], df_eegvalues['TIMESTAMP'][0]) - keystrokes_list[0][0]\n",
        "\n",
        "  for index, row in enumerate(keystrokes_list):\n",
        "    if index == len(keystrokes_list) - 1:\n",
        "      continue\n",
        "\n",
        "    #TODO: convert end_time start_time to some time/datetime object\n",
        "    start_time = keystrokes_list[index][0]\n",
        "    end_time = keystrokes_list[index][1]\n",
        "\n",
        "    group_time = df_eegvalues[(df_eegvalues['TIMESTAMP'] >= start_time) & (df_eegvalues['TIMESTAMP'] <= end_time)]\n",
        "    print(len(group_time))\n",
        "    if len(group_time) >= 800:\n",
        "      group_time = group_time.iloc[0:800]\n",
        "    else:\n",
        "      continue\n",
        "    if row[2] not in groups:\n",
        "      groups[row[2]] = []\n",
        "    groups[row[2]].append(group_time[columns].to_numpy())\n",
        "\n",
        "    #groups['baseline']\n",
        "\n",
        "  print(\"groups['baseline']\", groups['baseline'][0].shape)\n",
        "  baseline_array = np.array(groups['baseline'][0])\n",
        "\n",
        "\n",
        "  baseline_mean = np.mean(baseline_array, axis=0)\n",
        "\n",
        "  print(\"baseline_mean.shape = (14,)\", baseline_mean.shape)\n",
        "\n",
        "  for key in groups.keys():\n",
        "    if key == 'baseline':\n",
        "      continue\n",
        "    for i in range(len(groups[key])):\n",
        "      groups[key][i] = np.array(groups[key][i]) - baseline_mean\n",
        "\n",
        "  return groups"
      ],
      "metadata": {
        "id": "YGfv5UES_hlO"
      },
      "execution_count": null,
      "outputs": []
    },
    {
      "cell_type": "code",
      "source": [
        "path_folder = \"/content/drive/MyDrive/EMOTIV-CSV-Files-Updated/CSV-FILES-WITH-BASELINE\"\n",
        "\n",
        "df_list = []\n",
        "\n",
        "for folder_num in range(1, len(gamedata_folders)+1):\n",
        "  gamedata_eegvalues = f\"{path_folder}/game{folder_num}/eeg_data{folder_num}.csv\"\n",
        "  gamedata_keystrokes = f\"{path_folder}/game{folder_num}/game_data{folder_num}.csv\"\n",
        "  #try:\n",
        "  df_gamedata = group_by_time_of_day(gamedata_eegvalues, gamedata_keystrokes)\n",
        "  df_list.append(df_gamedata)\n",
        "\n",
        "# Collect 5 sets of data at 5 different times"
      ],
      "metadata": {
        "id": "aORIcJq_ARxn"
      },
      "execution_count": null,
      "outputs": []
    },
    {
      "cell_type": "code",
      "source": [
        "path_folder = \"/content/drive/MyDrive/EMOTIV-CSV-Files-Updated/CSV-FILES-WITH-BASELINE\"\n",
        "\n",
        "val_df_list = []\n",
        "\n",
        "for folder_num in range(1, len(val_gamedata_folders)+1):\n",
        "  gamedata_eegvalues = f\"{path_folder}/game{folder_num}/eeg_data{folder_num}.csv\"\n",
        "  gamedata_keystrokes = f\"{path_folder}/game{folder_num}/game_data{folder_num}.csv\"\n",
        "  #try:\n",
        "  val_df_gamedata = group_by_time_of_day(gamedata_eegvalues, gamedata_keystrokes)\n",
        "  val_df_list.append(val_df_gamedata)\n",
        "\n",
        "# Collect 5 sets of data at 5 different times"
      ],
      "metadata": {
        "id": "z_f2rDiJKHUe"
      },
      "execution_count": null,
      "outputs": []
    },
    {
      "cell_type": "code",
      "source": [
        "df_list[0]['down'][0]"
      ],
      "metadata": {
        "id": "JkdovVoVlRU7"
      },
      "execution_count": null,
      "outputs": []
    },
    {
      "cell_type": "code",
      "source": [
        "group_data = {}\n",
        "\n",
        "for key in df_list[0].keys():\n",
        "  group_data[key] = []\n",
        "  for group in df_list:\n",
        "    for item in group[key]:\n",
        "      group_data[key].append(item)"
      ],
      "metadata": {
        "id": "xGkjhn1uhHAt"
      },
      "execution_count": null,
      "outputs": []
    },
    {
      "cell_type": "code",
      "source": [
        "val_group_data = {}\n",
        "\n",
        "for key in val_df_list[0].keys():\n",
        "  val_group_data[key] = []\n",
        "  for group in val_df_list:\n",
        "    for item in group[key]:\n",
        "      val_group_data[key].append(item)"
      ],
      "metadata": {
        "id": "WCgdos2QKVqN"
      },
      "execution_count": null,
      "outputs": []
    },
    {
      "cell_type": "code",
      "source": [
        "train_dict = {}\n",
        "for key in ['right', 'up', 'down', 'left']:\n",
        "   for i in range(len(df_list)):\n",
        "      for item in df_list[i][key]:\n",
        "        if key not in train_dict:\n",
        "          train_dict[key] = []\n",
        "        train_dict[key].append(item )\n",
        "        train_dict[key].append(item )\n",
        "        # val_dict[key].append(item[list_of_columns].values[400:600])\n",
        "        # val_dict[key].append(item[list_of_columns].values[600:])"
      ],
      "metadata": {
        "id": "i-dkZ5M375zb"
      },
      "execution_count": null,
      "outputs": []
    },
    {
      "cell_type": "code",
      "source": [
        "val_dict = {}\n",
        "for key in ['right', 'up', 'down', 'left']:\n",
        "   for i in range(len(val_df_list)):\n",
        "      for item in val_df_list[i][key]:\n",
        "        if key not in val_dict:\n",
        "          val_dict[key] = []\n",
        "        val_dict[key].append(item )\n",
        "        val_dict[key].append(item )\n",
        "        # val_dict[key].append(item[list_of_columns].values[400:600])\n",
        "        # val_dict[key].append(item[list_of_columns].values[600:])"
      ],
      "metadata": {
        "id": "2n-5i7mMKma3"
      },
      "execution_count": null,
      "outputs": []
    },
    {
      "cell_type": "code",
      "source": [
        "'''\n",
        "import numpy as np\n",
        "import tensorflow as tf\n",
        "from sklearn.preprocessing import MinMaxScaler, LabelEncoder\n",
        "from tensorflow.keras.models import Sequential\n",
        "from tensorflow.keras.layers import GRU, Dense, Dropout\n",
        "from sklearn.metrics import confusion_matrix, ConfusionMatrixDisplay\n",
        "\n",
        "def normalize_data(data_dict):\n",
        "    scaler = MinMaxScaler()\n",
        "    normalized_dict = {}\n",
        "\n",
        "    for class_name, series_list in data_dict.items():\n",
        "      series_list = np.array(series_list)\n",
        "      num_samples, timesteps, num_features = series_list.shape\n",
        "      series_list = series_list.reshape(-1, num_features)\n",
        "      series_list = scaler.fit_transform(series_list)\n",
        "      series_list = series_list.reshape(num_samples, timesteps, num_features)\n",
        "      normalized_dict[class_name] = series_list\n",
        "\n",
        "    return normalized_dict, scaler\n",
        "\n",
        "def prepare_data(data_dict, label_encoder):\n",
        "    class_labels = list(data_dict.keys())\n",
        "    label_encoder.fit(class_labels)\n",
        "\n",
        "    X, y = [], []\n",
        "    for class_name, series_list in data_dict.items():\n",
        "        for series in series_list:\n",
        "            X.append(series)\n",
        "            y.append(label_encoder.transform([class_name])[0])\n",
        "\n",
        "    X = np.array(X)\n",
        "    y = np.array(y)\n",
        "\n",
        "    # Shuffle data\n",
        "    indices = np.arange(len(X))\n",
        "    np.random.shuffle(indices)\n",
        "    X = X[indices]\n",
        "    y = y[indices]\n",
        "\n",
        "    return X, y, label_encoder\n",
        "\n",
        "def build_gru_model(input_shape, num_classes):\n",
        "    model = Sequential([\n",
        "        GRU(64, return_sequences=True, input_shape=input_shape),\n",
        "        Dropout(0.2),\n",
        "        GRU(32),\n",
        "        Dropout(0.2),\n",
        "        Dense(num_classes, activation='softmax')\n",
        "    ])\n",
        "    model.compile(optimizer='adam', loss='sparse_categorical_crossentropy', metrics=['accuracy'])\n",
        "    return model\n",
        "\n",
        "def plot_confusion_matrix(model, X_val, y_val, encoder):\n",
        "    y_pred = np.argmax(model.predict(X_val), axis=1)\n",
        "    cm = confusion_matrix(y_val, y_pred)\n",
        "    disp = ConfusionMatrixDisplay(confusion_matrix=cm, display_labels=encoder.classes_)\n",
        "\n",
        "    plt.figure(figsize=(6,6))\n",
        "    disp.plot(cmap='Blues', values_format='d')\n",
        "    plt.title('Confusion Matrix')\n",
        "    plt.show()\n",
        "\n",
        "def downsample_by_mean(X_train, target_timesteps):\n",
        "  n_samples, timesteps, num_channels = X_train.shape\n",
        "  factor = timesteps // target_timesteps\n",
        "  X_downsampled = X_train[:, :factor * target_timesteps, :].reshape(\n",
        "      n_samples, target_timesteps, factor, num_channels\n",
        "  ).mean(axis=2)\n",
        "  return X_downsampled\n",
        "\n",
        "label_encoder = LabelEncoder()\n",
        "\n",
        "normalized_data_train, scaler = normalize_data(train_dict)\n",
        "X_train, y_train, label_encoder = prepare_data(normalized_data_train, label_encoder)\n",
        "\n",
        "normalized_data_val, scaler = normalize_data(val_dict)\n",
        "X_val, y_val, label_encoder = prepare_data(normalized_data_val, label_encoder)\n",
        "\n",
        "indices = np.arange(len(X_train))\n",
        "\n",
        "np.random.shuffle(indices)\n",
        "X_train = X_train[indices]\n",
        "y_train = y_train[indices]\n",
        "\n",
        "#new_timesteps = 256\n",
        "\n",
        "#X_train = downsample_by_mean(X_train, new_timesteps)\n",
        "#X_val = downsample_by_mean(X_val, new_timesteps)\n",
        "\n",
        "input_shape = (X_train.shape[1], X_train.shape[2])\n",
        "num_classes = len(label_encoder.classes_)\n",
        "\n",
        "model = build_gru_model(input_shape, num_classes)\n",
        "history = model.fit(X_train, y_train, epochs=10, batch_size=16, validation_data=(X_val, y_val))\n",
        "\n",
        "# Plot confusion matrix\n",
        "plot_confusion_matrix(model, X_val, y_val, label_encoder)\n",
        "'''"
      ],
      "metadata": {
        "id": "Bw2OwMdC-y3I",
        "colab": {
          "base_uri": "https://localhost:8080/",
          "height": 178
        },
        "outputId": "11b16690-fde7-495f-9968-d99ce8deadc0"
      },
      "execution_count": null,
      "outputs": [
        {
          "output_type": "execute_result",
          "data": {
            "text/plain": [
              "\"\\nimport numpy as np\\nimport tensorflow as tf\\nfrom sklearn.preprocessing import MinMaxScaler, LabelEncoder\\nfrom tensorflow.keras.models import Sequential\\nfrom tensorflow.keras.layers import GRU, Dense, Dropout\\nfrom sklearn.metrics import confusion_matrix, ConfusionMatrixDisplay\\n\\ndef normalize_data(data_dict):\\n    scaler = MinMaxScaler()\\n    normalized_dict = {}\\n\\n    for class_name, series_list in data_dict.items():\\n      series_list = np.array(series_list)\\n      num_samples, timesteps, num_features = series_list.shape\\n      series_list = series_list.reshape(-1, num_features)\\n      series_list = scaler.fit_transform(series_list)\\n      series_list = series_list.reshape(num_samples, timesteps, num_features)\\n      normalized_dict[class_name] = series_list\\n\\n    return normalized_dict, scaler\\n\\ndef prepare_data(data_dict, label_encoder):\\n    class_labels = list(data_dict.keys())\\n    label_encoder.fit(class_labels)\\n\\n    X, y = [], []\\n    for class_name, series_list in data_dict.items():\\n        for series in series_list:\\n            X.append(series)\\n            y.append(label_encoder.transform([class_name])[0])\\n\\n    X = np.array(X)\\n    y = np.array(y)\\n\\n    # Shuffle data\\n    indices = np.arange(len(X))\\n    np.random.shuffle(indices)\\n    X = X[indices]\\n    y = y[indices]\\n\\n    return X, y, label_encoder\\n\\ndef build_gru_model(input_shape, num_classes):\\n    model = Sequential([\\n        GRU(64, return_sequences=True, input_shape=input_shape),\\n        Dropout(0.2),\\n        GRU(32),\\n        Dropout(0.2),\\n        Dense(num_classes, activation='softmax')\\n    ])\\n    model.compile(optimizer='adam', loss='sparse_categorical_crossentropy', metrics=['accuracy'])\\n    return model\\n\\ndef plot_confusion_matrix(model, X_val, y_val, encoder):\\n    y_pred = np.argmax(model.predict(X_val), axis=1)\\n    cm = confusion_matrix(y_val, y_pred)\\n    disp = ConfusionMatrixDisplay(confusion_matrix=cm, display_labels=encoder.classes_)\\n\\n    plt.figure(figsize=(6,6))\\n    disp.plot(cmap='Blues', values_format='d')\\n    plt.title('Confusion Matrix')\\n    plt.show()\\n\\ndef downsample_by_mean(X_train, target_timesteps):\\n  n_samples, timesteps, num_channels = X_train.shape\\n  factor = timesteps // target_timesteps\\n  X_downsampled = X_train[:, :factor * target_timesteps, :].reshape(\\n      n_samples, target_timesteps, factor, num_channels\\n  ).mean(axis=2)\\n  return X_downsampled\\n\\nlabel_encoder = LabelEncoder()\\n\\nnormalized_data_train, scaler = normalize_data(train_dict)\\nX_train, y_train, label_encoder = prepare_data(normalized_data_train, label_encoder)\\n\\nnormalized_data_val, scaler = normalize_data(val_dict)\\nX_val, y_val, label_encoder = prepare_data(normalized_data_val, label_encoder)\\n\\nindices = np.arange(len(X_train))\\n\\nnp.random.shuffle(indices)\\nX_train = X_train[indices]\\ny_train = y_train[indices]\\n\\n#new_timesteps = 256\\n\\n#X_train = downsample_by_mean(X_train, new_timesteps)\\n#X_val = downsample_by_mean(X_val, new_timesteps)\\n\\ninput_shape = (X_train.shape[1], X_train.shape[2])\\nnum_classes = len(label_encoder.classes_)\\n\\nmodel = build_gru_model(input_shape, num_classes)\\nhistory = model.fit(X_train, y_train, epochs=10, batch_size=16, validation_data=(X_val, y_val))\\n\\n# Plot confusion matrix\\nplot_confusion_matrix(model, X_val, y_val, label_encoder)\\n\""
            ],
            "application/vnd.google.colaboratory.intrinsic+json": {
              "type": "string"
            }
          },
          "metadata": {},
          "execution_count": 15
        }
      ]
    },
    {
      "cell_type": "code",
      "source": [
        "import numpy as np\n",
        "import scipy.signal\n",
        "import torch\n",
        "import torch.nn.functional as F\n",
        "\n",
        "def eeg_to_spectrogram_tensor(\n",
        "    eeg_raw,\n",
        "    fs=128,\n",
        "    nperseg=64,\n",
        "    noverlap=32,\n",
        "    resize_to=(64, 64),\n",
        "    normalize=True,\n",
        "    log_scale=True,\n",
        "):\n",
        "    \"\"\"\n",
        "    Chuyển tín hiệu EEG [T, 14] thành tensor ảnh [14, H, W] (dùng spectrogram)\n",
        "    \"\"\"\n",
        "    n_channels = eeg_raw.shape[1]\n",
        "    spectrograms = []\n",
        "\n",
        "    for ch in range(n_channels):\n",
        "        f, t, Sxx = scipy.signal.spectrogram(eeg_raw[:, ch], fs=fs, nperseg=nperseg, noverlap=noverlap)\n",
        "\n",
        "        if log_scale:\n",
        "            Sxx = np.log1p(Sxx)\n",
        "\n",
        "        if normalize:\n",
        "            mean = np.mean(Sxx)\n",
        "            std = np.std(Sxx)\n",
        "            Sxx = (Sxx - mean) / (std + 1e-8)\n",
        "\n",
        "        # Resize từng ảnh về cùng kích thước nếu cần\n",
        "        Sxx_resized = F.interpolate(\n",
        "            input=torch.tensor(Sxx).unsqueeze(0).unsqueeze(0),  # [1, 1, F, T]\n",
        "            size=resize_to,\n",
        "            mode='bilinear',\n",
        "            align_corners=False\n",
        "        ).squeeze().numpy()  # [H, W]\n",
        "\n",
        "        spectrograms.append(Sxx_resized)\n",
        "\n",
        "    # Stack lại thành tensor [14, H, W]\n",
        "    spec_tensor = np.stack(spectrograms, axis=0)\n",
        "    return spec_tensor"
      ],
      "metadata": {
        "id": "RIgNkeBYYRxf"
      },
      "execution_count": null,
      "outputs": []
    },
    {
      "cell_type": "code",
      "source": [
        "from tqdm import tqdm\n",
        "import numpy as np\n",
        "import pywt\n",
        "import matplotlib.pyplot as plt\n",
        "import tensorflow as tf\n",
        "from sklearn.preprocessing import MinMaxScaler, LabelEncoder\n",
        "from tensorflow.keras.models import Sequential\n",
        "from tensorflow.keras.layers import Conv2D, MaxPooling2D, Flatten, Dense, Dropout\n",
        "from sklearn.metrics import confusion_matrix, ConfusionMatrixDisplay\n",
        "import pickle\n",
        "\n",
        "def prepare_data(data_dict, label_encoder):\n",
        "    class_labels = list(data_dict.keys())\n",
        "    label_encoder.fit(class_labels)\n",
        "    X, y = [], []\n",
        "    for class_name, series_list in train_dict.items():\n",
        "      for series in tqdm(series_list):\n",
        "        series = eeg_to_spectrogram_tensor(series)\n",
        "        X.append(series)  # shape: (32, width, 1)\n",
        "        y.append(label_encoder.transform([class_name])[0])\n",
        "\n",
        "    X = np.array(X)\n",
        "    y = np.array(y)\n",
        "\n",
        "    # Shuffle\n",
        "    indices = np.arange(len(X))\n",
        "    np.random.shuffle(indices)\n",
        "    return X[indices], y[indices], label_encoder\n",
        "\n",
        "# CNN model\n",
        "def create_cnn_model(input_shape, num_classes):\n",
        "    model = Sequential([\n",
        "        Conv2D(32, kernel_size=(3, 3), activation='relu', input_shape=input_shape),\n",
        "        MaxPooling2D(pool_size=(2, 2)),\n",
        "        Dropout(0.25),\n",
        "\n",
        "        Conv2D(64, kernel_size=(3, 3), activation='relu'),\n",
        "        MaxPooling2D(pool_size=(2, 2)),\n",
        "        Dropout(0.25),\n",
        "\n",
        "        Flatten(),\n",
        "        Dense(128, activation='relu'),\n",
        "        Dropout(0.5),\n",
        "        Dense(num_classes, activation='softmax')\n",
        "    ])\n",
        "    model.compile(optimizer='adam', loss='sparse_categorical_crossentropy', metrics=['accuracy'])\n",
        "    return model\n",
        "\n",
        "# Confusion matrix plotting\n",
        "def plot_confusion_matrix(model, X_val, y_val, encoder):\n",
        "    y_pred = np.argmax(model.predict(X_val), axis=1)\n",
        "    cm = confusion_matrix(y_val, y_pred)\n",
        "    disp = ConfusionMatrixDisplay(confusion_matrix=cm, display_labels=encoder.classes_)\n",
        "\n",
        "    plt.figure(figsize=(6,6))\n",
        "    disp.plot(cmap='Blues', values_format='d')\n",
        "    plt.title('Confusion Matrix')\n",
        "    plt.show()\n",
        "\n",
        "label_encoder = LabelEncoder()\n",
        "\n",
        "# Skip normalization — already handled by scalogram\n",
        "X_train, y_train, label_encoder = prepare_data(train_dict, label_encoder)\n",
        "X_val, y_val, label_encoder = prepare_data(val_dict, label_encoder)\n",
        "\n",
        "# Save the label_encoder to a file\n",
        "with open('label_encoder.pkl', 'wb') as f:\n",
        "    pickle.dump(label_encoder, f)\n",
        "    print(\"Label Encoder has been saved to a file\")\n",
        "\n"
      ],
      "metadata": {
        "id": "tLMtC_5Na_uN",
        "colab": {
          "base_uri": "https://localhost:8080/"
        },
        "outputId": "bedf9268-9d05-4fb2-b9f5-b4ff66e46b76"
      },
      "execution_count": null,
      "outputs": [
        {
          "output_type": "stream",
          "name": "stderr",
          "text": [
            "100%|██████████| 1160/1160 [00:10<00:00, 112.77it/s]\n",
            "100%|██████████| 1108/1108 [00:09<00:00, 122.93it/s]\n",
            "100%|██████████| 1070/1070 [00:09<00:00, 117.59it/s]\n",
            "100%|██████████| 1070/1070 [00:09<00:00, 114.60it/s]\n",
            "100%|██████████| 1160/1160 [00:10<00:00, 111.10it/s]\n",
            "100%|██████████| 1108/1108 [00:08<00:00, 128.01it/s]\n",
            "100%|██████████| 1070/1070 [00:08<00:00, 121.32it/s]\n",
            "100%|██████████| 1070/1070 [00:09<00:00, 114.92it/s]\n"
          ]
        },
        {
          "output_type": "stream",
          "name": "stdout",
          "text": [
            "Label Encoder has been saved to a file\n"
          ]
        }
      ]
    },
    {
      "cell_type": "code",
      "source": [
        "# Get shape like (63, width, 1)\n",
        "input_shape = X_train.shape[1:]\n",
        "num_classes = len(label_encoder.classes_)\n",
        "\n",
        "# Build and train CNN\n",
        "cnn_model = create_cnn_model(input_shape, num_classes)"
      ],
      "metadata": {
        "id": "j7tfgjMjQtPv",
        "colab": {
          "base_uri": "https://localhost:8080/"
        },
        "outputId": "0e0a49cc-338d-4112-e5ca-329b7c28f4fb"
      },
      "execution_count": null,
      "outputs": [
        {
          "output_type": "stream",
          "name": "stderr",
          "text": [
            "/usr/local/lib/python3.11/dist-packages/keras/src/layers/convolutional/base_conv.py:107: UserWarning: Do not pass an `input_shape`/`input_dim` argument to a layer. When using Sequential models, prefer using an `Input(shape)` object as the first layer in the model instead.\n",
            "  super().__init__(activity_regularizer=activity_regularizer, **kwargs)\n"
          ]
        }
      ]
    },
    {
      "cell_type": "code",
      "source": [
        "\n",
        "history = cnn_model.fit(X_train, y_train, epochs=50, batch_size=16, validation_data=(X_val, y_val))\n",
        "\n",
        "# Plot confusion matrix\n",
        "plot_confusion_matrix(cnn_model, X_val, y_val, label_encoder)"
      ],
      "metadata": {
        "colab": {
          "base_uri": "https://localhost:8080/",
          "height": 1000
        },
        "id": "diLfNbcLQNBL",
        "outputId": "b818ee29-0bf9-4e5c-b963-b8012500233a"
      },
      "execution_count": null,
      "outputs": [
        {
          "output_type": "stream",
          "name": "stdout",
          "text": [
            "Epoch 1/50\n",
            "\u001b[1m276/276\u001b[0m \u001b[32m━━━━━━━━━━━━━━━━━━━━\u001b[0m\u001b[37m\u001b[0m \u001b[1m28s\u001b[0m 58ms/step - accuracy: 0.2477 - loss: 1.5537 - val_accuracy: 0.2582 - val_loss: 1.3853\n",
            "Epoch 2/50\n",
            "\u001b[1m276/276\u001b[0m \u001b[32m━━━━━━━━━━━━━━━━━━━━\u001b[0m\u001b[37m\u001b[0m \u001b[1m18s\u001b[0m 8ms/step - accuracy: 0.2601 - loss: 1.3886 - val_accuracy: 0.2586 - val_loss: 1.3922\n",
            "Epoch 3/50\n",
            "\u001b[1m276/276\u001b[0m \u001b[32m━━━━━━━━━━━━━━━━━━━━\u001b[0m\u001b[37m\u001b[0m \u001b[1m3s\u001b[0m 10ms/step - accuracy: 0.2644 - loss: 1.4003 - val_accuracy: 0.2514 - val_loss: 1.3863\n",
            "Epoch 4/50\n",
            "\u001b[1m276/276\u001b[0m \u001b[32m━━━━━━━━━━━━━━━━━━━━\u001b[0m\u001b[37m\u001b[0m \u001b[1m4s\u001b[0m 7ms/step - accuracy: 0.2602 - loss: 1.3864 - val_accuracy: 0.2750 - val_loss: 1.3834\n",
            "Epoch 5/50\n",
            "\u001b[1m276/276\u001b[0m \u001b[32m━━━━━━━━━━━━━━━━━━━━\u001b[0m\u001b[37m\u001b[0m \u001b[1m3s\u001b[0m 9ms/step - accuracy: 0.2733 - loss: 1.3848 - val_accuracy: 0.2722 - val_loss: 1.3802\n",
            "Epoch 6/50\n",
            "\u001b[1m276/276\u001b[0m \u001b[32m━━━━━━━━━━━━━━━━━━━━\u001b[0m\u001b[37m\u001b[0m \u001b[1m3s\u001b[0m 9ms/step - accuracy: 0.2621 - loss: 1.3819 - val_accuracy: 0.2641 - val_loss: 1.3840\n",
            "Epoch 7/50\n",
            "\u001b[1m276/276\u001b[0m \u001b[32m━━━━━━━━━━━━━━━━━━━━\u001b[0m\u001b[37m\u001b[0m \u001b[1m3s\u001b[0m 9ms/step - accuracy: 0.2697 - loss: 1.3875 - val_accuracy: 0.2799 - val_loss: 1.3753\n",
            "Epoch 8/50\n",
            "\u001b[1m276/276\u001b[0m \u001b[32m━━━━━━━━━━━━━━━━━━━━\u001b[0m\u001b[37m\u001b[0m \u001b[1m5s\u001b[0m 7ms/step - accuracy: 0.2683 - loss: 1.3822 - val_accuracy: 0.3004 - val_loss: 1.3672\n",
            "Epoch 9/50\n",
            "\u001b[1m276/276\u001b[0m \u001b[32m━━━━━━━━━━━━━━━━━━━━\u001b[0m\u001b[37m\u001b[0m \u001b[1m3s\u001b[0m 9ms/step - accuracy: 0.2894 - loss: 1.3815 - val_accuracy: 0.2772 - val_loss: 1.3683\n",
            "Epoch 10/50\n",
            "\u001b[1m276/276\u001b[0m \u001b[32m━━━━━━━━━━━━━━━━━━━━\u001b[0m\u001b[37m\u001b[0m \u001b[1m3s\u001b[0m 9ms/step - accuracy: 0.2911 - loss: 1.3732 - val_accuracy: 0.2931 - val_loss: 1.3702\n",
            "Epoch 11/50\n",
            "\u001b[1m276/276\u001b[0m \u001b[32m━━━━━━━━━━━━━━━━━━━━\u001b[0m\u001b[37m\u001b[0m \u001b[1m2s\u001b[0m 9ms/step - accuracy: 0.3066 - loss: 1.3664 - val_accuracy: 0.3081 - val_loss: 1.3571\n",
            "Epoch 12/50\n",
            "\u001b[1m276/276\u001b[0m \u001b[32m━━━━━━━━━━━━━━━━━━━━\u001b[0m\u001b[37m\u001b[0m \u001b[1m3s\u001b[0m 11ms/step - accuracy: 0.3098 - loss: 1.3597 - val_accuracy: 0.3398 - val_loss: 1.3409\n",
            "Epoch 13/50\n",
            "\u001b[1m276/276\u001b[0m \u001b[32m━━━━━━━━━━━━━━━━━━━━\u001b[0m\u001b[37m\u001b[0m \u001b[1m3s\u001b[0m 9ms/step - accuracy: 0.3251 - loss: 1.3466 - val_accuracy: 0.3584 - val_loss: 1.3392\n",
            "Epoch 14/50\n",
            "\u001b[1m276/276\u001b[0m \u001b[32m━━━━━━━━━━━━━━━━━━━━\u001b[0m\u001b[37m\u001b[0m \u001b[1m2s\u001b[0m 8ms/step - accuracy: 0.3376 - loss: 1.3352 - val_accuracy: 0.3866 - val_loss: 1.3082\n",
            "Epoch 15/50\n",
            "\u001b[1m276/276\u001b[0m \u001b[32m━━━━━━━━━━━━━━━━━━━━\u001b[0m\u001b[37m\u001b[0m \u001b[1m2s\u001b[0m 8ms/step - accuracy: 0.3416 - loss: 1.3247 - val_accuracy: 0.4211 - val_loss: 1.2685\n",
            "Epoch 16/50\n",
            "\u001b[1m276/276\u001b[0m \u001b[32m━━━━━━━━━━━━━━━━━━━━\u001b[0m\u001b[37m\u001b[0m \u001b[1m3s\u001b[0m 8ms/step - accuracy: 0.3780 - loss: 1.2856 - val_accuracy: 0.4569 - val_loss: 1.2194\n",
            "Epoch 17/50\n",
            "\u001b[1m276/276\u001b[0m \u001b[32m━━━━━━━━━━━━━━━━━━━━\u001b[0m\u001b[37m\u001b[0m \u001b[1m3s\u001b[0m 10ms/step - accuracy: 0.3931 - loss: 1.2566 - val_accuracy: 0.4778 - val_loss: 1.1868\n",
            "Epoch 18/50\n",
            "\u001b[1m276/276\u001b[0m \u001b[32m━━━━━━━━━━━━━━━━━━━━\u001b[0m\u001b[37m\u001b[0m \u001b[1m5s\u001b[0m 9ms/step - accuracy: 0.4284 - loss: 1.2151 - val_accuracy: 0.5127 - val_loss: 1.1525\n",
            "Epoch 19/50\n",
            "\u001b[1m276/276\u001b[0m \u001b[32m━━━━━━━━━━━━━━━━━━━━\u001b[0m\u001b[37m\u001b[0m \u001b[1m3s\u001b[0m 9ms/step - accuracy: 0.4486 - loss: 1.2029 - val_accuracy: 0.5476 - val_loss: 1.0824\n",
            "Epoch 20/50\n",
            "\u001b[1m276/276\u001b[0m \u001b[32m━━━━━━━━━━━━━━━━━━━━\u001b[0m\u001b[37m\u001b[0m \u001b[1m2s\u001b[0m 8ms/step - accuracy: 0.4756 - loss: 1.1653 - val_accuracy: 0.5817 - val_loss: 1.0248\n",
            "Epoch 21/50\n",
            "\u001b[1m276/276\u001b[0m \u001b[32m━━━━━━━━━━━━━━━━━━━━\u001b[0m\u001b[37m\u001b[0m \u001b[1m3s\u001b[0m 9ms/step - accuracy: 0.4977 - loss: 1.0916 - val_accuracy: 0.6112 - val_loss: 0.9987\n",
            "Epoch 22/50\n",
            "\u001b[1m276/276\u001b[0m \u001b[32m━━━━━━━━━━━━━━━━━━━━\u001b[0m\u001b[37m\u001b[0m \u001b[1m5s\u001b[0m 9ms/step - accuracy: 0.4987 - loss: 1.0837 - val_accuracy: 0.6438 - val_loss: 0.9416\n",
            "Epoch 23/50\n",
            "\u001b[1m276/276\u001b[0m \u001b[32m━━━━━━━━━━━━━━━━━━━━\u001b[0m\u001b[37m\u001b[0m \u001b[1m3s\u001b[0m 9ms/step - accuracy: 0.5333 - loss: 1.0288 - val_accuracy: 0.6878 - val_loss: 0.8825\n",
            "Epoch 24/50\n",
            "\u001b[1m276/276\u001b[0m \u001b[32m━━━━━━━━━━━━━━━━━━━━\u001b[0m\u001b[37m\u001b[0m \u001b[1m2s\u001b[0m 8ms/step - accuracy: 0.5647 - loss: 1.0048 - val_accuracy: 0.7096 - val_loss: 0.8168\n",
            "Epoch 25/50\n",
            "\u001b[1m276/276\u001b[0m \u001b[32m━━━━━━━━━━━━━━━━━━━━\u001b[0m\u001b[37m\u001b[0m \u001b[1m3s\u001b[0m 9ms/step - accuracy: 0.5764 - loss: 0.9547 - val_accuracy: 0.7260 - val_loss: 0.7754\n",
            "Epoch 26/50\n",
            "\u001b[1m276/276\u001b[0m \u001b[32m━━━━━━━━━━━━━━━━━━━━\u001b[0m\u001b[37m\u001b[0m \u001b[1m5s\u001b[0m 8ms/step - accuracy: 0.6076 - loss: 0.9014 - val_accuracy: 0.7564 - val_loss: 0.7347\n",
            "Epoch 27/50\n",
            "\u001b[1m276/276\u001b[0m \u001b[32m━━━━━━━━━━━━━━━━━━━━\u001b[0m\u001b[37m\u001b[0m \u001b[1m3s\u001b[0m 10ms/step - accuracy: 0.6203 - loss: 0.9044 - val_accuracy: 0.7564 - val_loss: 0.7244\n",
            "Epoch 28/50\n",
            "\u001b[1m276/276\u001b[0m \u001b[32m━━━━━━━━━━━━━━━━━━━━\u001b[0m\u001b[37m\u001b[0m \u001b[1m2s\u001b[0m 7ms/step - accuracy: 0.6391 - loss: 0.8478 - val_accuracy: 0.8017 - val_loss: 0.6295\n",
            "Epoch 29/50\n",
            "\u001b[1m276/276\u001b[0m \u001b[32m━━━━━━━━━━━━━━━━━━━━\u001b[0m\u001b[37m\u001b[0m \u001b[1m2s\u001b[0m 9ms/step - accuracy: 0.6570 - loss: 0.8211 - val_accuracy: 0.7990 - val_loss: 0.6281\n",
            "Epoch 30/50\n",
            "\u001b[1m276/276\u001b[0m \u001b[32m━━━━━━━━━━━━━━━━━━━━\u001b[0m\u001b[37m\u001b[0m \u001b[1m2s\u001b[0m 8ms/step - accuracy: 0.6695 - loss: 0.7984 - val_accuracy: 0.8525 - val_loss: 0.5561\n",
            "Epoch 31/50\n",
            "\u001b[1m276/276\u001b[0m \u001b[32m━━━━━━━━━━━━━━━━━━━━\u001b[0m\u001b[37m\u001b[0m \u001b[1m3s\u001b[0m 9ms/step - accuracy: 0.6881 - loss: 0.7424 - val_accuracy: 0.8444 - val_loss: 0.5394\n",
            "Epoch 32/50\n",
            "\u001b[1m276/276\u001b[0m \u001b[32m━━━━━━━━━━━━━━━━━━━━\u001b[0m\u001b[37m\u001b[0m \u001b[1m2s\u001b[0m 7ms/step - accuracy: 0.6957 - loss: 0.7285 - val_accuracy: 0.8630 - val_loss: 0.5049\n",
            "Epoch 33/50\n",
            "\u001b[1m276/276\u001b[0m \u001b[32m━━━━━━━━━━━━━━━━━━━━\u001b[0m\u001b[37m\u001b[0m \u001b[1m3s\u001b[0m 9ms/step - accuracy: 0.7198 - loss: 0.6830 - val_accuracy: 0.8716 - val_loss: 0.4802\n",
            "Epoch 34/50\n",
            "\u001b[1m276/276\u001b[0m \u001b[32m━━━━━━━━━━━━━━━━━━━━\u001b[0m\u001b[37m\u001b[0m \u001b[1m3s\u001b[0m 9ms/step - accuracy: 0.7238 - loss: 0.6632 - val_accuracy: 0.8693 - val_loss: 0.4951\n",
            "Epoch 35/50\n",
            "\u001b[1m276/276\u001b[0m \u001b[32m━━━━━━━━━━━━━━━━━━━━\u001b[0m\u001b[37m\u001b[0m \u001b[1m3s\u001b[0m 10ms/step - accuracy: 0.7160 - loss: 0.6917 - val_accuracy: 0.8907 - val_loss: 0.4550\n",
            "Epoch 36/50\n",
            "\u001b[1m276/276\u001b[0m \u001b[32m━━━━━━━━━━━━━━━━━━━━\u001b[0m\u001b[37m\u001b[0m \u001b[1m2s\u001b[0m 9ms/step - accuracy: 0.7278 - loss: 0.6697 - val_accuracy: 0.8925 - val_loss: 0.4098\n",
            "Epoch 37/50\n",
            "\u001b[1m276/276\u001b[0m \u001b[32m━━━━━━━━━━━━━━━━━━━━\u001b[0m\u001b[37m\u001b[0m \u001b[1m2s\u001b[0m 8ms/step - accuracy: 0.7326 - loss: 0.6577 - val_accuracy: 0.8979 - val_loss: 0.3985\n",
            "Epoch 38/50\n",
            "\u001b[1m276/276\u001b[0m \u001b[32m━━━━━━━━━━━━━━━━━━━━\u001b[0m\u001b[37m\u001b[0m \u001b[1m3s\u001b[0m 9ms/step - accuracy: 0.7549 - loss: 0.6197 - val_accuracy: 0.9120 - val_loss: 0.3989\n",
            "Epoch 39/50\n",
            "\u001b[1m276/276\u001b[0m \u001b[32m━━━━━━━━━━━━━━━━━━━━\u001b[0m\u001b[37m\u001b[0m \u001b[1m2s\u001b[0m 8ms/step - accuracy: 0.7544 - loss: 0.6132 - val_accuracy: 0.9183 - val_loss: 0.3723\n",
            "Epoch 40/50\n",
            "\u001b[1m276/276\u001b[0m \u001b[32m━━━━━━━━━━━━━━━━━━━━\u001b[0m\u001b[37m\u001b[0m \u001b[1m3s\u001b[0m 10ms/step - accuracy: 0.7579 - loss: 0.5956 - val_accuracy: 0.9102 - val_loss: 0.3555\n",
            "Epoch 41/50\n",
            "\u001b[1m276/276\u001b[0m \u001b[32m━━━━━━━━━━━━━━━━━━━━\u001b[0m\u001b[37m\u001b[0m \u001b[1m3s\u001b[0m 9ms/step - accuracy: 0.7628 - loss: 0.5935 - val_accuracy: 0.9288 - val_loss: 0.3260\n",
            "Epoch 42/50\n",
            "\u001b[1m276/276\u001b[0m \u001b[32m━━━━━━━━━━━━━━━━━━━━\u001b[0m\u001b[37m\u001b[0m \u001b[1m2s\u001b[0m 7ms/step - accuracy: 0.7663 - loss: 0.5781 - val_accuracy: 0.9192 - val_loss: 0.3348\n",
            "Epoch 43/50\n",
            "\u001b[1m276/276\u001b[0m \u001b[32m━━━━━━━━━━━━━━━━━━━━\u001b[0m\u001b[37m\u001b[0m \u001b[1m2s\u001b[0m 9ms/step - accuracy: 0.7787 - loss: 0.5825 - val_accuracy: 0.9274 - val_loss: 0.3239\n",
            "Epoch 44/50\n",
            "\u001b[1m276/276\u001b[0m \u001b[32m━━━━━━━━━━━━━━━━━━━━\u001b[0m\u001b[37m\u001b[0m \u001b[1m2s\u001b[0m 7ms/step - accuracy: 0.7819 - loss: 0.5441 - val_accuracy: 0.9356 - val_loss: 0.3048\n",
            "Epoch 45/50\n",
            "\u001b[1m276/276\u001b[0m \u001b[32m━━━━━━━━━━━━━━━━━━━━\u001b[0m\u001b[37m\u001b[0m \u001b[1m3s\u001b[0m 9ms/step - accuracy: 0.8058 - loss: 0.5142 - val_accuracy: 0.9347 - val_loss: 0.3024\n",
            "Epoch 46/50\n",
            "\u001b[1m276/276\u001b[0m \u001b[32m━━━━━━━━━━━━━━━━━━━━\u001b[0m\u001b[37m\u001b[0m \u001b[1m3s\u001b[0m 10ms/step - accuracy: 0.7763 - loss: 0.5659 - val_accuracy: 0.9369 - val_loss: 0.2980\n",
            "Epoch 47/50\n",
            "\u001b[1m276/276\u001b[0m \u001b[32m━━━━━━━━━━━━━━━━━━━━\u001b[0m\u001b[37m\u001b[0m \u001b[1m2s\u001b[0m 9ms/step - accuracy: 0.8003 - loss: 0.5318 - val_accuracy: 0.9456 - val_loss: 0.2718\n",
            "Epoch 48/50\n",
            "\u001b[1m276/276\u001b[0m \u001b[32m━━━━━━━━━━━━━━━━━━━━\u001b[0m\u001b[37m\u001b[0m \u001b[1m2s\u001b[0m 7ms/step - accuracy: 0.8007 - loss: 0.5250 - val_accuracy: 0.9446 - val_loss: 0.2682\n",
            "Epoch 49/50\n",
            "\u001b[1m276/276\u001b[0m \u001b[32m━━━━━━━━━━━━━━━━━━━━\u001b[0m\u001b[37m\u001b[0m \u001b[1m3s\u001b[0m 7ms/step - accuracy: 0.7925 - loss: 0.5250 - val_accuracy: 0.9478 - val_loss: 0.2536\n",
            "Epoch 50/50\n",
            "\u001b[1m276/276\u001b[0m \u001b[32m━━━━━━━━━━━━━━━━━━━━\u001b[0m\u001b[37m\u001b[0m \u001b[1m2s\u001b[0m 8ms/step - accuracy: 0.8219 - loss: 0.4615 - val_accuracy: 0.9710 - val_loss: 0.2114\n",
            "\u001b[1m138/138\u001b[0m \u001b[32m━━━━━━━━━━━━━━━━━━━━\u001b[0m\u001b[37m\u001b[0m \u001b[1m1s\u001b[0m 7ms/step\n"
          ]
        },
        {
          "output_type": "display_data",
          "data": {
            "text/plain": [
              "<Figure size 600x600 with 0 Axes>"
            ]
          },
          "metadata": {}
        },
        {
          "output_type": "display_data",
          "data": {
            "text/plain": [
              "<Figure size 640x480 with 2 Axes>"
            ],
            "image/png": "[encoded data removed]"
          },
          "metadata": {}
        }
      ]
    },
    {
      "cell_type": "code",
      "source": [
        "#cnn_model.save(\"eeg_prediction_model.h5\")\n",
        "# Save the trained model to a .keras file\n",
        "cnn_model.save(\"may25_eeg_prediction_model.h5\")\n",
        "print(\"Model saved as may25_eeg_prediction_model.h5\")"
      ],
      "metadata": {
        "id": "-L8YG9bzXzoT"
      },
      "execution_count": null,
      "outputs": []
    }
  ]
}